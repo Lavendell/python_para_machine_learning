{
  "nbformat": 4,
  "nbformat_minor": 0,
  "metadata": {
    "colab": {
      "name": "Aula_5.ipynb",
      "provenance": [],
      "authorship_tag": "ABX9TyN9zOEwI4J76IspJGD+XXvw"
    },
    "kernelspec": {
      "name": "python3",
      "display_name": "Python 3"
    }
  },
  "cells": [
    {
      "cell_type": "code",
      "metadata": {
        "id": "Xz2s_CAQegTS",
        "colab_type": "code",
        "colab": {}
      },
      "source": [
        "dicionario = {'Curso': 'Python para ML',\n",
        "              'Produtor': 'Didática Tech',\n",
        "              'Preço': 'Gratuito',\n",
        "              'Nota': 10}"
      ],
      "execution_count": null,
      "outputs": []
    },
    {
      "cell_type": "code",
      "metadata": {
        "id": "QNJzadc-gF_-",
        "colab_type": "code",
        "colab": {
          "base_uri": "https://localhost:8080/",
          "height": 34
        },
        "outputId": "ec227661-86cd-490b-92cc-e31a1484235a"
      },
      "source": [
        "dicionario['Nota']"
      ],
      "execution_count": null,
      "outputs": [
        {
          "output_type": "execute_result",
          "data": {
            "text/plain": [
              "10"
            ]
          },
          "metadata": {
            "tags": []
          },
          "execution_count": 5
        }
      ]
    },
    {
      "cell_type": "code",
      "metadata": {
        "id": "hAoyBPskgTaD",
        "colab_type": "code",
        "colab": {}
      },
      "source": [
        "a = dicionario['Preço']"
      ],
      "execution_count": null,
      "outputs": []
    },
    {
      "cell_type": "code",
      "metadata": {
        "id": "MPn23_DEgrGr",
        "colab_type": "code",
        "colab": {
          "base_uri": "https://localhost:8080/",
          "height": 34
        },
        "outputId": "31ecc620-30ab-44ca-9edd-f2c33732b24d"
      },
      "source": [
        "print(a)"
      ],
      "execution_count": null,
      "outputs": [
        {
          "output_type": "stream",
          "text": [
            "Gratuito\n"
          ],
          "name": "stdout"
        }
      ]
    },
    {
      "cell_type": "code",
      "metadata": {
        "id": "9Qt6weGWgsBM",
        "colab_type": "code",
        "colab": {}
      },
      "source": [
        "dicionario['Preço'] = 'R$ 300,00'"
      ],
      "execution_count": null,
      "outputs": []
    },
    {
      "cell_type": "code",
      "metadata": {
        "id": "86m_X-vdg8jt",
        "colab_type": "code",
        "colab": {
          "base_uri": "https://localhost:8080/",
          "height": 34
        },
        "outputId": "19353ca2-751c-43b3-f9ea-3ba8665c0154"
      },
      "source": [
        "print(dicionario)"
      ],
      "execution_count": null,
      "outputs": [
        {
          "output_type": "stream",
          "text": [
            "{'Curso': 'Python para ML', 'Produtor': 'Didática Tech', 'Preço': 'R$ 300,00', 'Nota': 10}\n"
          ],
          "name": "stdout"
        }
      ]
    },
    {
      "cell_type": "code",
      "metadata": {
        "id": "-oLOXoAqg-sH",
        "colab_type": "code",
        "colab": {}
      },
      "source": [
        "dicionario['Pré-requisito'] = 'Python básico'"
      ],
      "execution_count": null,
      "outputs": []
    },
    {
      "cell_type": "code",
      "metadata": {
        "id": "Ajlj_-UwhX0s",
        "colab_type": "code",
        "colab": {
          "base_uri": "https://localhost:8080/",
          "height": 34
        },
        "outputId": "a93fa931-5be2-4d71-8c67-4645e74483cf"
      },
      "source": [
        "print(dicionario)"
      ],
      "execution_count": null,
      "outputs": [
        {
          "output_type": "stream",
          "text": [
            "{'Curso': 'Python para ML', 'Produtor': 'Didática Tech', 'Preço': 'R$ 300,00', 'Nota': 10, 'Pré-requisito': 'Python básico'}\n"
          ],
          "name": "stdout"
        }
      ]
    },
    {
      "cell_type": "code",
      "metadata": {
        "id": "rrpRDi6KhZiX",
        "colab_type": "code",
        "colab": {
          "base_uri": "https://localhost:8080/",
          "height": 34
        },
        "outputId": "0cf76cb3-a67a-4e3e-ff58-619f0fe0f01d"
      },
      "source": [
        "dicionario.clear()\n",
        "dicionario.keys()\n",
        "dicionario.values()\n",
        "dicionario.items()"
      ],
      "execution_count": null,
      "outputs": [
        {
          "output_type": "execute_result",
          "data": {
            "text/plain": [
              "dict_items([])"
            ]
          },
          "metadata": {
            "tags": []
          },
          "execution_count": 20
        }
      ]
    },
    {
      "cell_type": "code",
      "metadata": {
        "id": "5kmhjUXvhqaq",
        "colab_type": "code",
        "colab": {
          "base_uri": "https://localhost:8080/",
          "height": 34
        },
        "outputId": "9763fb6a-9ae0-46a9-9afe-3ce45ea96eb7"
      },
      "source": [
        "print(dicionario)"
      ],
      "execution_count": null,
      "outputs": [
        {
          "output_type": "stream",
          "text": [
            "{}\n"
          ],
          "name": "stdout"
        }
      ]
    },
    {
      "cell_type": "code",
      "metadata": {
        "id": "OAZ46vKniTVg",
        "colab_type": "code",
        "colab": {}
      },
      "source": [
        ""
      ],
      "execution_count": null,
      "outputs": []
    }
  ]
}
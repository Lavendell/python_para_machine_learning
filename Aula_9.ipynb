{
  "nbformat": 4,
  "nbformat_minor": 0,
  "metadata": {
    "colab": {
      "name": "Aula_9.ipynb",
      "provenance": [],
      "authorship_tag": "ABX9TyPSAE+OjLeVtb4D/gW4HCw7"
    },
    "kernelspec": {
      "name": "python3",
      "display_name": "Python 3"
    }
  },
  "cells": [
    {
      "cell_type": "code",
      "metadata": {
        "id": "dJn04JshIZcs",
        "colab_type": "code",
        "colab": {}
      },
      "source": [
        "kmh = [40, 50, 56, 54, 73, 79, 85, 96, 100, 120]"
      ],
      "execution_count": null,
      "outputs": []
    },
    {
      "cell_type": "code",
      "metadata": {
        "id": "EVaIuxVFIfaP",
        "colab_type": "code",
        "colab": {
          "base_uri": "https://localhost:8080/",
          "height": 54
        },
        "outputId": "54040a2a-632e-4d67-b9fa-6284564ddfdc"
      },
      "source": [
        "mph = []\n",
        "for i in kmh:\n",
        "  mph.append(i/1.61)\n",
        "print(mph)"
      ],
      "execution_count": null,
      "outputs": [
        {
          "output_type": "stream",
          "text": [
            "[24.844720496894407, 31.05590062111801, 34.78260869565217, 33.54037267080745, 45.3416149068323, 49.06832298136646, 52.795031055900616, 59.62732919254658, 62.11180124223602, 74.53416149068323]\n"
          ],
          "name": "stdout"
        }
      ]
    },
    {
      "cell_type": "code",
      "metadata": {
        "id": "SFNGG6cQIhjA",
        "colab_type": "code",
        "colab": {
          "base_uri": "https://localhost:8080/",
          "height": 54
        },
        "outputId": "5d06106d-5134-4c41-d979-924d9d91b986"
      },
      "source": [
        "mph2 = list(map(lambda x: x/1.61, kmh))\n",
        "print(mph2)"
      ],
      "execution_count": null,
      "outputs": [
        {
          "output_type": "stream",
          "text": [
            "[24.844720496894407, 31.05590062111801, 34.78260869565217, 33.54037267080745, 45.3416149068323, 49.06832298136646, 52.795031055900616, 59.62732919254658, 62.11180124223602, 74.53416149068323]\n"
          ],
          "name": "stdout"
        }
      ]
    },
    {
      "cell_type": "code",
      "metadata": {
        "id": "3yRaXFcpIj3D",
        "colab_type": "code",
        "colab": {
          "base_uri": "https://localhost:8080/",
          "height": 54
        },
        "outputId": "52711ffd-df1d-48f8-fdf3-3f75259dd1cd"
      },
      "source": [
        "mph3 = [x/1.61 for x in kmh]\n",
        "print(mph3)"
      ],
      "execution_count": null,
      "outputs": [
        {
          "output_type": "stream",
          "text": [
            "[24.844720496894407, 31.05590062111801, 34.78260869565217, 33.54037267080745, 45.3416149068323, 49.06832298136646, 52.795031055900616, 59.62732919254658, 62.11180124223602, 74.53416149068323]\n"
          ],
          "name": "stdout"
        }
      ]
    },
    {
      "cell_type": "code",
      "metadata": {
        "id": "gYES3qREJeKX",
        "colab_type": "code",
        "colab": {
          "base_uri": "https://localhost:8080/",
          "height": 34
        },
        "outputId": "d9d67ffb-a199-4220-d9b9-f2de61e6b056"
      },
      "source": [
        "caracteres = [i for i in 'Didática Tech']\n",
        "print(caracteres)"
      ],
      "execution_count": null,
      "outputs": [
        {
          "output_type": "stream",
          "text": [
            "['D', 'i', 'd', 'á', 't', 'i', 'c', 'a', ' ', 'T', 'e', 'c', 'h']\n"
          ],
          "name": "stdout"
        }
      ]
    },
    {
      "cell_type": "code",
      "metadata": {
        "id": "QEWxzvZWKJNO",
        "colab_type": "code",
        "colab": {}
      },
      "source": [
        ""
      ],
      "execution_count": null,
      "outputs": []
    }
  ]
}
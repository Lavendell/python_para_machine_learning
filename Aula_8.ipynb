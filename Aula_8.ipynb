{
  "nbformat": 4,
  "nbformat_minor": 0,
  "metadata": {
    "colab": {
      "name": "Aula_8.ipynb",
      "provenance": [],
      "authorship_tag": "ABX9TyNuiKdxG2YTQzNWQJYXtsjc"
    },
    "kernelspec": {
      "name": "python3",
      "display_name": "Python 3"
    }
  },
  "cells": [
    {
      "cell_type": "code",
      "metadata": {
        "id": "VpkSeJJ1oQUa",
        "colab_type": "code",
        "colab": {}
      },
      "source": [
        "kmh = [40, 50, 56, 54, 73, 79, 85, 96, 100, 120]"
      ],
      "execution_count": null,
      "outputs": []
    },
    {
      "cell_type": "code",
      "metadata": {
        "id": "t_BA0tpfopQe",
        "colab_type": "code",
        "colab": {
          "base_uri": "https://localhost:8080/",
          "height": 54
        },
        "outputId": "e1f1e77b-aedc-411b-e7e6-ae5bb3a48c62"
      },
      "source": [
        "mph = []\n",
        "for i in kmh:\n",
        "  mph.append(i/1.61)\n",
        "print(mph)"
      ],
      "execution_count": null,
      "outputs": [
        {
          "output_type": "stream",
          "text": [
            "[24.844720496894407, 31.05590062111801, 34.78260869565217, 33.54037267080745, 45.3416149068323, 49.06832298136646, 52.795031055900616, 59.62732919254658, 62.11180124223602, 74.53416149068323]\n"
          ],
          "name": "stdout"
        }
      ]
    },
    {
      "cell_type": "code",
      "metadata": {
        "id": "b4M7ywpmpIrR",
        "colab_type": "code",
        "colab": {
          "base_uri": "https://localhost:8080/",
          "height": 54
        },
        "outputId": "03f16261-efc2-49fe-e223-ddbc2bc65766"
      },
      "source": [
        "mph2 = list(map(lambda x: x/1.61, kph))\n",
        "print(mph2)"
      ],
      "execution_count": null,
      "outputs": [
        {
          "output_type": "stream",
          "text": [
            "[24.844720496894407, 31.05590062111801, 34.78260869565217, 33.54037267080745, 45.3416149068323, 49.06832298136646, 52.795031055900616, 59.62732919254658, 62.11180124223602, 74.53416149068323]\n"
          ],
          "name": "stdout"
        }
      ]
    },
    {
      "cell_type": "code",
      "metadata": {
        "id": "0Yj3mnNAp7wI",
        "colab_type": "code",
        "colab": {}
      },
      "source": [
        ""
      ],
      "execution_count": null,
      "outputs": []
    }
  ]
}